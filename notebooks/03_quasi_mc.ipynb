{
 "cells": [
  {
   "cell_type": "markdown",
   "id": "57528f9b",
   "metadata": {},
   "source": [
    "# Quasi-Monte Carlo with Sobol sequences"
   ]
  },
  {
   "cell_type": "code",
   "execution_count": null,
   "id": "92d47bf4",
   "metadata": {},
   "outputs": [],
   "source": [
    "from src import quasi_mc\n",
    "print(quasi_mc.price_european_call_qmc(100,100,0.02,0.2,1.0,n_sims=8192,seed=1))"
   ]
  }
 ],
 "metadata": {},
 "nbformat": 4,
 "nbformat_minor": 5
}
