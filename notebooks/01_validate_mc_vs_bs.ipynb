{
 "cells": [
  {
   "cell_type": "markdown",
   "id": "fcd10a59",
   "metadata": {},
   "source": [
    "# MC vs Black–Scholes Validation\\nThis notebook runs a small convergence study."
   ]
  },
  {
   "cell_type": "code",
   "execution_count": null,
   "id": "62cdc05f",
   "metadata": {},
   "outputs": [],
   "source": [
    "import os, sys\n",
    "sys.path.append(os.path.join(os.getcwd(), 'src'))\n",
    "from mc_pricing import price_european_mc, bs_price, relative_error\n"
   ]
  },
  {
   "cell_type": "code",
   "execution_count": null,
   "id": "ac0511d9",
   "metadata": {},
   "outputs": [],
   "source": [
    "S0, K, r, sigma, T = 100.0, 100.0, 0.02, 0.2, 1.0\n",
    "ref = bs_price('call', S0, K, r, sigma, T)\n",
    "ref"
   ]
  },
  {
   "cell_type": "code",
   "execution_count": null,
   "id": "56919802",
   "metadata": {},
   "outputs": [],
   "source": [
    "price, stderr, lo, hi = price_european_mc('call', S0, K, r, sigma, T, n_sims=100_000, antithetic=True, seed=42)\n",
    "price, stderr, lo, hi, relative_error(price, ref)"
   ]
  },
  {
   "cell_type": "code",
   "execution_count": null,
   "id": "e668f0e6",
   "metadata": {},
   "outputs": [],
   "source": [
    "import numpy as np, matplotlib.pyplot as plt\n",
    "Ns=[1000, 3000, 10000, 30000, 100000]\n",
    "errs=[]\n",
    "for i,N in enumerate(Ns):\n",
    "    p, se, lo, hi = price_european_mc('call', S0, K, r, sigma, T, n_sims=N, antithetic=True, seed=100+i)\n",
    "    errs.append(relative_error(p, ref))\n",
    "    plt.figure(); plt.plot(Ns, errs, marker='o'); plt.xscale('log'); plt.yscale('log'); plt.xlabel('N'); plt.ylabel('RelError'); plt.title('MC vs BS'); plt.show()"
   ]
  }
 ],
 "metadata": {
  "language_info": {
   "name": "python"
  }
 },
 "nbformat": 4,
 "nbformat_minor": 5
}
