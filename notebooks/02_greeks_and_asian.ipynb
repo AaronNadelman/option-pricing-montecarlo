{
 "cells": [
  {
   "cell_type": "markdown",
   "id": "8ddd2614",
   "metadata": {},
   "source": [
    "# Greeks and Asian Option"
   ]
  },
  {
   "cell_type": "code",
   "execution_count": null,
   "id": "9e7b18da",
   "metadata": {},
   "outputs": [],
   "source": [
    "from src import greeks, asian_option\n",
    "print(greeks.call_greeks(100,100,0.02,0.2,1.0))\n",
    "print(asian_option.price_asian_call_mc(100,100,0.02,0.2,1.0,n_sims=10000,n_steps=50,seed=1))"
   ]
  }
 ],
 "metadata": {
  "kernelspec": {
   "display_name": ".venv",
   "language": "python",
   "name": "python3"
  },
  "language_info": {
   "name": "python",
   "version": "3.11.9"
  }
 },
 "nbformat": 4,
 "nbformat_minor": 5
}
